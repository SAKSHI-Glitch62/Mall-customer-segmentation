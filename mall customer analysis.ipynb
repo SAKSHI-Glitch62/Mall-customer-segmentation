{
 "cells": [
  {
   "cell_type": "code",
   "execution_count": 1,
   "id": "926d5c07-dbba-4bc9-937f-37982f86b83d",
   "metadata": {},
   "outputs": [],
   "source": [
    "import numpy as np\n",
    "import pandas as pd\n",
    "import matplotlib.pyplot as plt\n",
    "import seaborn as sns"
   ]
  },
  {
   "cell_type": "code",
   "execution_count": 5,
   "id": "3a4622e2-028a-4b16-b71d-693a433ee82a",
   "metadata": {},
   "outputs": [],
   "source": [
    "data= pd.read_csv('C:/Users/saksh/Downloads/Mall_Customers.csv')"
   ]
  },
  {
   "cell_type": "code",
   "execution_count": 6,
   "id": "0df1a89e-19ca-45ec-a02c-6a5c3201f256",
   "metadata": {},
   "outputs": [
    {
     "data": {
      "text/plain": [
       "<bound method NDFrame.head of      CustomerID  Gender  Age  Annual Income (k$)  Spending Score (1-100)\n",
       "0             1    Male   19                  15                      39\n",
       "1             2    Male   21                  15                      81\n",
       "2             3  Female   20                  16                       6\n",
       "3             4  Female   23                  16                      77\n",
       "4             5  Female   31                  17                      40\n",
       "..          ...     ...  ...                 ...                     ...\n",
       "195         196  Female   35                 120                      79\n",
       "196         197  Female   45                 126                      28\n",
       "197         198    Male   32                 126                      74\n",
       "198         199    Male   32                 137                      18\n",
       "199         200    Male   30                 137                      83\n",
       "\n",
       "[200 rows x 5 columns]>"
      ]
     },
     "execution_count": 6,
     "metadata": {},
     "output_type": "execute_result"
    }
   ],
   "source": [
    "data.head"
   ]
  },
  {
   "cell_type": "code",
   "execution_count": 7,
   "id": "f1aa1d32-4274-4081-b870-a64880fad6b5",
   "metadata": {},
   "outputs": [
    {
     "data": {
      "text/plain": [
       "<bound method NDFrame.tail of      CustomerID  Gender  Age  Annual Income (k$)  Spending Score (1-100)\n",
       "0             1    Male   19                  15                      39\n",
       "1             2    Male   21                  15                      81\n",
       "2             3  Female   20                  16                       6\n",
       "3             4  Female   23                  16                      77\n",
       "4             5  Female   31                  17                      40\n",
       "..          ...     ...  ...                 ...                     ...\n",
       "195         196  Female   35                 120                      79\n",
       "196         197  Female   45                 126                      28\n",
       "197         198    Male   32                 126                      74\n",
       "198         199    Male   32                 137                      18\n",
       "199         200    Male   30                 137                      83\n",
       "\n",
       "[200 rows x 5 columns]>"
      ]
     },
     "execution_count": 7,
     "metadata": {},
     "output_type": "execute_result"
    }
   ],
   "source": [
    "data.tail"
   ]
  },
  {
   "cell_type": "code",
   "execution_count": 8,
   "id": "d7be0bcd-7864-420a-8c84-ac77ef6f5f83",
   "metadata": {},
   "outputs": [
    {
     "data": {
      "text/plain": [
       "<bound method DataFrame.info of      CustomerID  Gender  Age  Annual Income (k$)  Spending Score (1-100)\n",
       "0             1    Male   19                  15                      39\n",
       "1             2    Male   21                  15                      81\n",
       "2             3  Female   20                  16                       6\n",
       "3             4  Female   23                  16                      77\n",
       "4             5  Female   31                  17                      40\n",
       "..          ...     ...  ...                 ...                     ...\n",
       "195         196  Female   35                 120                      79\n",
       "196         197  Female   45                 126                      28\n",
       "197         198    Male   32                 126                      74\n",
       "198         199    Male   32                 137                      18\n",
       "199         200    Male   30                 137                      83\n",
       "\n",
       "[200 rows x 5 columns]>"
      ]
     },
     "execution_count": 8,
     "metadata": {},
     "output_type": "execute_result"
    }
   ],
   "source": [
    "data.info"
   ]
  },
  {
   "cell_type": "code",
   "execution_count": 9,
   "id": "a13ecd46-e6a1-4092-ae49-562e9a49b4a2",
   "metadata": {},
   "outputs": [
    {
     "data": {
      "text/plain": [
       "<bound method NDFrame.describe of      CustomerID  Gender  Age  Annual Income (k$)  Spending Score (1-100)\n",
       "0             1    Male   19                  15                      39\n",
       "1             2    Male   21                  15                      81\n",
       "2             3  Female   20                  16                       6\n",
       "3             4  Female   23                  16                      77\n",
       "4             5  Female   31                  17                      40\n",
       "..          ...     ...  ...                 ...                     ...\n",
       "195         196  Female   35                 120                      79\n",
       "196         197  Female   45                 126                      28\n",
       "197         198    Male   32                 126                      74\n",
       "198         199    Male   32                 137                      18\n",
       "199         200    Male   30                 137                      83\n",
       "\n",
       "[200 rows x 5 columns]>"
      ]
     },
     "execution_count": 9,
     "metadata": {},
     "output_type": "execute_result"
    }
   ],
   "source": [
    "data.describe"
   ]
  },
  {
   "cell_type": "code",
   "execution_count": 15,
   "id": "8578fe38-a3c6-4c57-a639-24c020040359",
   "metadata": {},
   "outputs": [
    {
     "data": {
      "text/plain": [
       "Index(['CustomerID', 'Gender', 'Age', 'Annual Income', 'Spending Score'], dtype='object')"
      ]
     },
     "execution_count": 15,
     "metadata": {},
     "output_type": "execute_result"
    }
   ],
   "source": [
    "data.columns"
   ]
  },
  {
   "cell_type": "code",
   "execution_count": 12,
   "id": "03fb746d-c7e6-40b6-a9af-23436e50a88d",
   "metadata": {},
   "outputs": [
    {
     "data": {
      "text/plain": [
       "CustomerID                 int64\n",
       "Gender                    object\n",
       "Age                        int64\n",
       "Annual Income (k$)         int64\n",
       "Spending Score (1-100)     int64\n",
       "dtype: object"
      ]
     },
     "execution_count": 12,
     "metadata": {},
     "output_type": "execute_result"
    }
   ],
   "source": [
    "data.dtypes"
   ]
  },
  {
   "cell_type": "code",
   "execution_count": 13,
   "id": "0c9b9084-d19a-4621-a27b-6f6f3c73ac30",
   "metadata": {},
   "outputs": [
    {
     "data": {
      "text/plain": [
       "CustomerID                0\n",
       "Gender                    0\n",
       "Age                       0\n",
       "Annual Income (k$)        0\n",
       "Spending Score (1-100)    0\n",
       "dtype: int64"
      ]
     },
     "execution_count": 13,
     "metadata": {},
     "output_type": "execute_result"
    }
   ],
   "source": [
    "data.isnull().sum()"
   ]
  },
  {
   "cell_type": "code",
   "execution_count": 14,
   "id": "b9b1c150-b725-4c70-b431-7379613d887b",
   "metadata": {},
   "outputs": [],
   "source": [
    "data.rename(columns={'Annual Income (k$)' : 'Annual Income', 'Spending Score (1-100)' :  'Spending Score'}, inplace=True)"
   ]
  },
  {
   "cell_type": "code",
   "execution_count": 24,
   "id": "4407fa4a-665e-456e-97f2-ecfff58bbc37",
   "metadata": {},
   "outputs": [],
   "source": [
    "data.drop('CustomerID' , axis =1, inplace=True)"
   ]
  },
  {
   "cell_type": "code",
   "execution_count": 18,
   "id": "cd8d7c35-baa3-4411-a508-6e02965fb023",
   "metadata": {},
   "outputs": [
    {
     "data": {
      "text/plain": [
       "array(['Male', 'Female'], dtype=object)"
      ]
     },
     "execution_count": 18,
     "metadata": {},
     "output_type": "execute_result"
    }
   ],
   "source": [
    "data.Gender.unique()"
   ]
  },
  {
   "cell_type": "code",
   "execution_count": 19,
   "id": "a46da054-b311-42b4-8d4e-6e39a48553af",
   "metadata": {},
   "outputs": [
    {
     "data": {
      "text/plain": [
       "Gender\n",
       "Female    112\n",
       "Male       88\n",
       "Name: count, dtype: int64"
      ]
     },
     "execution_count": 19,
     "metadata": {},
     "output_type": "execute_result"
    }
   ],
   "source": [
    "data.Gender.value_counts()"
   ]
  },
  {
   "cell_type": "code",
   "execution_count": 25,
   "id": "9784b60b-1f0d-48da-b8e9-04e9d11c75be",
   "metadata": {},
   "outputs": [
    {
     "data": {
      "text/plain": [
       "array([19, 21, 20, 23, 31, 22, 35, 64, 30, 67, 58, 24, 37, 52, 25, 46, 54,\n",
       "       29, 45, 40, 60, 53, 18, 49, 42, 36, 65, 48, 50, 27, 33, 59, 47, 51,\n",
       "       69, 70, 63, 43, 68, 32, 26, 57, 38, 55, 34, 66, 39, 44, 28, 56, 41],\n",
       "      dtype=int64)"
      ]
     },
     "execution_count": 25,
     "metadata": {},
     "output_type": "execute_result"
    }
   ],
   "source": [
    "data.Age.unique()"
   ]
  },
  {
   "cell_type": "code",
   "execution_count": 26,
   "id": "5589208d-3b72-410e-bd4a-45d57ee39756",
   "metadata": {},
   "outputs": [
    {
     "data": {
      "text/plain": [
       "Age\n",
       "32    11\n",
       "35     9\n",
       "19     8\n",
       "31     8\n",
       "30     7\n",
       "49     7\n",
       "40     6\n",
       "38     6\n",
       "47     6\n",
       "27     6\n",
       "36     6\n",
       "23     6\n",
       "34     5\n",
       "20     5\n",
       "29     5\n",
       "50     5\n",
       "48     5\n",
       "21     5\n",
       "24     4\n",
       "18     4\n",
       "28     4\n",
       "67     4\n",
       "59     4\n",
       "54     4\n",
       "43     3\n",
       "60     3\n",
       "45     3\n",
       "39     3\n",
       "33     3\n",
       "37     3\n",
       "22     3\n",
       "25     3\n",
       "46     3\n",
       "68     3\n",
       "52     2\n",
       "44     2\n",
       "66     2\n",
       "57     2\n",
       "26     2\n",
       "53     2\n",
       "42     2\n",
       "63     2\n",
       "70     2\n",
       "51     2\n",
       "58     2\n",
       "65     2\n",
       "41     2\n",
       "55     1\n",
       "69     1\n",
       "64     1\n",
       "56     1\n",
       "Name: count, dtype: int64"
      ]
     },
     "execution_count": 26,
     "metadata": {},
     "output_type": "execute_result"
    }
   ],
   "source": [
    "data.Age.value_counts()"
   ]
  },
  {
   "cell_type": "code",
   "execution_count": 27,
   "id": "69c79f91-ff77-4715-a6e4-456d5530adf9",
   "metadata": {},
   "outputs": [
    {
     "name": "stdout",
     "output_type": "stream",
     "text": [
      "51\n"
     ]
    }
   ],
   "source": [
    "print(len(data.Age.unique()))"
   ]
  },
  {
   "cell_type": "code",
   "execution_count": 29,
   "id": "60e2ebe6-78c0-44f2-b41f-9c3c234c1989",
   "metadata": {},
   "outputs": [
    {
     "data": {
      "text/plain": [
       "0      False\n",
       "1      False\n",
       "2      False\n",
       "3      False\n",
       "4      False\n",
       "       ...  \n",
       "195    False\n",
       "196    False\n",
       "197    False\n",
       "198    False\n",
       "199    False\n",
       "Length: 200, dtype: bool"
      ]
     },
     "execution_count": 29,
     "metadata": {},
     "output_type": "execute_result"
    }
   ],
   "source": [
    "data.duplicated()"
   ]
  },
  {
   "cell_type": "markdown",
   "id": "398b93d1-d4e0-46b9-835e-71c393ee1142",
   "metadata": {},
   "source": [
    "\n",
    "\n",
    "---\n",
    "\n",
    "### **1. What are missing values and how do you handle them?**\n",
    "\n",
    "**Answer:**\n",
    "Missing values occur when no data value is stored for a variable or observation.\n",
    "They can appear due to data entry errors, system issues, or incomplete data collection.\n",
    "\n",
    "**Ways to handle missing values:**\n",
    "\n",
    "* **Delete rows/columns:**\n",
    "  Use `df.dropna()` when missing values are few and random.\n",
    "* **Impute with mean/median/mode:**\n",
    "  `df['Age'].fillna(df['Age'].mean())`\n",
    "* **Forward/Backward fill:**\n",
    "  `df.fillna(method='ffill')` or `bfill`\n",
    "* **Model-based imputation:**\n",
    "  Predict missing values using regression or KNN imputation.\n",
    "\n",
    "---\n",
    "\n",
    "### **2. How do you treat duplicate records?**\n",
    "\n",
    "**Answer:**\n",
    "Duplicate records are rows that appear more than once in a dataset and can distort analysis.\n",
    "\n",
    "**To handle duplicates:**\n",
    "\n",
    "* **Check for duplicates:**\n",
    "  `df.duplicated()`\n",
    "* **Remove duplicates:**\n",
    "  `df.drop_duplicates(inplace=True)`\n",
    "* **Keep first/last occurrence:**\n",
    "  `df.drop_duplicates(keep='first')`\n",
    "\n",
    "Duplicates are removed to maintain data accuracy and prevent biased results.\n",
    "\n",
    "---\n",
    "\n",
    "### **3. Difference between `dropna()` and `fillna()` in Pandas**\n",
    "\n",
    "| Function       | Purpose                                                 | Example                                  |\n",
    "| -------------- | ------------------------------------------------------- | ---------------------------------------- |\n",
    "| **`dropna()`** | Removes rows or columns with missing values             | `df.dropna()`                            |\n",
    "| **`fillna()`** | Replaces missing values with a specific value or method | `df.fillna(0)` or `df.fillna(df.mean())` |\n",
    "\n",
    "**Example:**\n",
    "\n",
    "```python\n",
    "df.dropna()      # Deletes rows with NaN\n",
    "df.fillna(0)     # Replaces NaN with 0\n",
    "```\n",
    "\n",
    "---\n",
    "\n",
    "### **4. What is outlier treatment and why is it important?**\n",
    "\n",
    "**Answer:**\n",
    "Outliers are data points that differ significantly from other observations.\n",
    "They can result from measurement errors or genuine variability.\n",
    "\n",
    "**Why important:**\n",
    "Outliers can skew mean, standard deviation, and affect model performance.\n",
    "\n",
    "**Common treatment methods:**\n",
    "\n",
    "* **Removal:** Exclude extreme outliers using IQR or Z-score.\n",
    "* **Capping:** Replace outliers with boundary values.\n",
    "* **Transformation:** Apply log or square-root transformations to reduce impact.\n",
    "\n",
    "**Example (IQR method):**\n",
    "\n",
    "```python\n",
    "Q1 = df['Age'].quantile(0.25)\n",
    "Q3 = df['Age'].quantile(0.75)\n",
    "IQR = Q3 - Q1\n",
    "df = df[~((df['Age'] < (Q1 - 1.5*IQR)) | (df['Age'] > (Q3 + 1.5*IQR)))]\n",
    "```\n",
    "\n",
    "---\n",
    "\n",
    "### **5. Explain the process of standardizing data.**\n",
    "\n",
    "**Answer:**\n",
    "Standardization (Z-score normalization) transforms data to have **mean = 0** and **standard deviation = 1**.\n",
    "\n",
    "**Purpose:**\n",
    "To ensure all features are on the same scale — especially important for algorithms like SVM, KNN, and PCA.\n",
    "\n",
    "**Formula:**\n",
    "[\n",
    "z = \\frac{(x - \\mu)}{\\sigma}\n",
    "]\n",
    "\n",
    "**Example:**\n",
    "\n",
    "```python\n",
    "from sklearn.preprocessing import StandardScaler\n",
    "scaler = StandardScaler()\n",
    "df_scaled = scaler.fit_transform(df)\n",
    "```\n",
    "\n",
    "---\n",
    "\n",
    "### **6. How do you handle inconsistent data formats (e.g., date/time)?**\n",
    "\n",
    "**Answer:**\n",
    "Inconsistency occurs when data types or formats vary (e.g., “12/03/2024” vs “2024-03-12”).\n",
    "\n",
    "**Solutions:**\n",
    "\n",
    "* **Convert using Pandas:**\n",
    "  `df['Date'] = pd.to_datetime(df['Date'], format='%d/%m/%Y')`\n",
    "* **Unify string cases:**\n",
    "  `df['City'] = df['City'].str.lower()`\n",
    "* **Strip unwanted spaces:**\n",
    "  `df['Name'] = df['Name'].str.strip()`\n",
    "\n",
    "Maintaining consistency ensures reliable comparisons and calculations.\n",
    "\n",
    "---\n",
    "\n",
    "### **7. What are common data cleaning challenges?**\n",
    "\n",
    "**Answer:**\n",
    "\n",
    "* Missing or null values\n",
    "* Duplicate or inconsistent data\n",
    "* Incorrect data types\n",
    "* Outliers and noisy data\n",
    "* Mixed data formats\n",
    "* Inaccurate labeling or categorical mismatches\n",
    "* Human data entry errors\n",
    "\n",
    "---\n",
    "\n",
    "### **8. How can you check data quality?**\n",
    "\n",
    "**Answer:**\n",
    "Data quality can be assessed using **descriptive statistics, visualization, and validation checks.**\n",
    "\n",
    "**Methods:**\n",
    "\n",
    "* **Check for missing values:** `df.isnull().sum()`\n",
    "* **Check duplicates:** `df.duplicated().sum()`\n",
    "* **Summary statistics:** `df.describe()`\n",
    "* **Validate data types:** `df.dtypes`\n",
    "* **Value range check:** Ensure numeric values fall within expected limits\n",
    "* **Uniqueness check:** For ID or key columns\n",
    "\n",
    "---\n",
    "\n"
   ]
  },
  {
   "cell_type": "code",
   "execution_count": null,
   "id": "711a2a9d-f903-469f-931c-cff28755cb20",
   "metadata": {},
   "outputs": [],
   "source": []
  },
  {
   "cell_type": "code",
   "execution_count": null,
   "id": "fa40b15d-604f-4fc5-b8b4-d1b55216d80b",
   "metadata": {},
   "outputs": [],
   "source": []
  },
  {
   "cell_type": "code",
   "execution_count": null,
   "id": "b4334a40-8637-4233-9a2a-89722d73984b",
   "metadata": {},
   "outputs": [],
   "source": []
  },
  {
   "cell_type": "code",
   "execution_count": null,
   "id": "88534513-1fea-4c2c-8b81-49fb0c5067e6",
   "metadata": {},
   "outputs": [],
   "source": []
  },
  {
   "cell_type": "code",
   "execution_count": null,
   "id": "d465cc99-320f-400f-9bb5-7259cf14b304",
   "metadata": {},
   "outputs": [],
   "source": []
  },
  {
   "cell_type": "code",
   "execution_count": null,
   "id": "48453c6b-a88f-4663-833e-c8c0f36ff4ad",
   "metadata": {},
   "outputs": [],
   "source": []
  },
  {
   "cell_type": "code",
   "execution_count": null,
   "id": "380fb55d-eeed-43b1-99b3-90e89a886b8a",
   "metadata": {},
   "outputs": [],
   "source": []
  },
  {
   "cell_type": "code",
   "execution_count": null,
   "id": "6b538205-2f2f-424a-958a-10c810f2a05f",
   "metadata": {},
   "outputs": [],
   "source": []
  },
  {
   "cell_type": "code",
   "execution_count": null,
   "id": "1c434fe0-7c0c-4393-9186-4bdc9183c5f8",
   "metadata": {},
   "outputs": [],
   "source": []
  },
  {
   "cell_type": "code",
   "execution_count": null,
   "id": "9d4228ca-fa9a-45cb-939d-d3dc1ebd96a0",
   "metadata": {},
   "outputs": [],
   "source": []
  }
 ],
 "metadata": {
  "kernelspec": {
   "display_name": "Python [conda env:base] *",
   "language": "python",
   "name": "conda-base-py"
  },
  "language_info": {
   "codemirror_mode": {
    "name": "ipython",
    "version": 3
   },
   "file_extension": ".py",
   "mimetype": "text/x-python",
   "name": "python",
   "nbconvert_exporter": "python",
   "pygments_lexer": "ipython3",
   "version": "3.12.7"
  }
 },
 "nbformat": 4,
 "nbformat_minor": 5
}
